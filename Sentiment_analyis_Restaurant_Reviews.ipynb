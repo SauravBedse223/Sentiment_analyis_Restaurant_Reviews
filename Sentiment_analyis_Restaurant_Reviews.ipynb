{
  "cells": [
    {
      "cell_type": "markdown",
      "id": "a5655812",
      "metadata": {
        "id": "a5655812"
      },
      "source": [
        "Sentiments Analyisis for Restaurant Review"
      ]
    },
    {
      "cell_type": "code",
      "execution_count": null,
      "id": "df5fd33c",
      "metadata": {
        "id": "df5fd33c"
      },
      "outputs": [],
      "source": [
        "import pandas as pd\n",
        "from sklearn.model_selection import train_test_split\n",
        "from sklearn.feature_extraction.text import TfidfVectorizer\n",
        "from sklearn.linear_model import LogisticRegression\n",
        "from sklearn.metrics import classification_report, accuracy_score\n",
        "from sklearn.utils import resample\n"
      ]
    },
    {
      "cell_type": "code",
      "execution_count": null,
      "id": "37e48ed8",
      "metadata": {
        "id": "37e48ed8"
      },
      "outputs": [],
      "source": [
        "# Load the dataset\n",
        "df = pd.read_csv(\"Restaurant_Reviews (1).csv\")\n"
      ]
    },
    {
      "cell_type": "code",
      "execution_count": null,
      "id": "c426d0ac",
      "metadata": {
        "id": "c426d0ac"
      },
      "outputs": [],
      "source": [
        "# Split the dataset into training and testing sets\n",
        "X_train, X_test, y_train, y_test = train_test_split(df['Review'], df['Liked'], test_size=0.2, random_state=42)\n"
      ]
    },
    {
      "cell_type": "code",
      "source": [
        "from google.colab import drive\n",
        "drive.mount('/content/drive')"
      ],
      "metadata": {
        "id": "NRK4GE42rz7C",
        "colab": {
          "base_uri": "https://localhost:8080/"
        },
        "outputId": "18897abb-3074-45bd-e9dd-e258fb10ba53"
      },
      "id": "NRK4GE42rz7C",
      "execution_count": null,
      "outputs": [
        {
          "output_type": "stream",
          "name": "stdout",
          "text": [
            "Mounted at /content/drive\n"
          ]
        }
      ]
    },
    {
      "cell_type": "code",
      "execution_count": null,
      "id": "28124a51",
      "metadata": {
        "id": "28124a51"
      },
      "outputs": [],
      "source": [
        "# Balance the dataset (optional)\n",
        "positive_reviews = df[df['Liked'] == 1]\n",
        "negative_reviews = df[df['Liked'] == 0]"
      ]
    },
    {
      "cell_type": "code",
      "execution_count": null,
      "id": "8a9f6fca",
      "metadata": {
        "id": "8a9f6fca"
      },
      "outputs": [],
      "source": [
        "# Upsample the minority class (negative reviews) to balance the dataset\n",
        "negative_reviews_upsampled = resample(negative_reviews, replace=True, n_samples=len(positive_reviews), random_state=42)\n"
      ]
    },
    {
      "cell_type": "code",
      "execution_count": null,
      "id": "0d428c1e",
      "metadata": {
        "id": "0d428c1e"
      },
      "outputs": [],
      "source": [
        "# Combine the balanced data\n",
        "balanced_df = pd.concat([positive_reviews, negative_reviews_upsampled])\n"
      ]
    },
    {
      "cell_type": "code",
      "execution_count": null,
      "id": "b9a970ac",
      "metadata": {
        "id": "b9a970ac"
      },
      "outputs": [],
      "source": [
        "# Split the balanced dataset\n",
        "X_train_balanced, X_test_balanced, y_train_balanced, y_test_balanced = train_test_split(\n",
        "    balanced_df['Review'],\n",
        "    balanced_df['Liked'],\n",
        "    test_size=0.2,\n",
        "    random_state=42\n",
        ")"
      ]
    },
    {
      "cell_type": "code",
      "execution_count": null,
      "id": "82419461",
      "metadata": {
        "id": "82419461"
      },
      "outputs": [],
      "source": [
        "# Create a TF-IDF vectorizer with n-grams\n",
        "tfidf_vectorizer = TfidfVectorizer(max_features=5000, ngram_range=(1, 2))\n"
      ]
    },
    {
      "cell_type": "code",
      "execution_count": null,
      "id": "5914b509",
      "metadata": {
        "id": "5914b509"
      },
      "outputs": [],
      "source": [
        "# Transform the text data into TF-IDF features\n",
        "X_train_tfidf = tfidf_vectorizer.fit_transform(X_train_balanced)\n",
        "X_test_tfidf = tfidf_vectorizer.transform(X_test_balanced)\n"
      ]
    },
    {
      "cell_type": "code",
      "execution_count": null,
      "id": "c9a9f43c",
      "metadata": {
        "id": "c9a9f43c",
        "outputId": "fdd32613-ede2-4f3a-b403-4ac6dd2b5f8d",
        "colab": {
          "base_uri": "https://localhost:8080/",
          "height": 75
        }
      },
      "outputs": [
        {
          "output_type": "execute_result",
          "data": {
            "text/plain": [
              "LogisticRegression(max_iter=1000)"
            ],
            "text/html": [
              "<style>#sk-container-id-1 {color: black;background-color: white;}#sk-container-id-1 pre{padding: 0;}#sk-container-id-1 div.sk-toggleable {background-color: white;}#sk-container-id-1 label.sk-toggleable__label {cursor: pointer;display: block;width: 100%;margin-bottom: 0;padding: 0.3em;box-sizing: border-box;text-align: center;}#sk-container-id-1 label.sk-toggleable__label-arrow:before {content: \"▸\";float: left;margin-right: 0.25em;color: #696969;}#sk-container-id-1 label.sk-toggleable__label-arrow:hover:before {color: black;}#sk-container-id-1 div.sk-estimator:hover label.sk-toggleable__label-arrow:before {color: black;}#sk-container-id-1 div.sk-toggleable__content {max-height: 0;max-width: 0;overflow: hidden;text-align: left;background-color: #f0f8ff;}#sk-container-id-1 div.sk-toggleable__content pre {margin: 0.2em;color: black;border-radius: 0.25em;background-color: #f0f8ff;}#sk-container-id-1 input.sk-toggleable__control:checked~div.sk-toggleable__content {max-height: 200px;max-width: 100%;overflow: auto;}#sk-container-id-1 input.sk-toggleable__control:checked~label.sk-toggleable__label-arrow:before {content: \"▾\";}#sk-container-id-1 div.sk-estimator input.sk-toggleable__control:checked~label.sk-toggleable__label {background-color: #d4ebff;}#sk-container-id-1 div.sk-label input.sk-toggleable__control:checked~label.sk-toggleable__label {background-color: #d4ebff;}#sk-container-id-1 input.sk-hidden--visually {border: 0;clip: rect(1px 1px 1px 1px);clip: rect(1px, 1px, 1px, 1px);height: 1px;margin: -1px;overflow: hidden;padding: 0;position: absolute;width: 1px;}#sk-container-id-1 div.sk-estimator {font-family: monospace;background-color: #f0f8ff;border: 1px dotted black;border-radius: 0.25em;box-sizing: border-box;margin-bottom: 0.5em;}#sk-container-id-1 div.sk-estimator:hover {background-color: #d4ebff;}#sk-container-id-1 div.sk-parallel-item::after {content: \"\";width: 100%;border-bottom: 1px solid gray;flex-grow: 1;}#sk-container-id-1 div.sk-label:hover label.sk-toggleable__label {background-color: #d4ebff;}#sk-container-id-1 div.sk-serial::before {content: \"\";position: absolute;border-left: 1px solid gray;box-sizing: border-box;top: 0;bottom: 0;left: 50%;z-index: 0;}#sk-container-id-1 div.sk-serial {display: flex;flex-direction: column;align-items: center;background-color: white;padding-right: 0.2em;padding-left: 0.2em;position: relative;}#sk-container-id-1 div.sk-item {position: relative;z-index: 1;}#sk-container-id-1 div.sk-parallel {display: flex;align-items: stretch;justify-content: center;background-color: white;position: relative;}#sk-container-id-1 div.sk-item::before, #sk-container-id-1 div.sk-parallel-item::before {content: \"\";position: absolute;border-left: 1px solid gray;box-sizing: border-box;top: 0;bottom: 0;left: 50%;z-index: -1;}#sk-container-id-1 div.sk-parallel-item {display: flex;flex-direction: column;z-index: 1;position: relative;background-color: white;}#sk-container-id-1 div.sk-parallel-item:first-child::after {align-self: flex-end;width: 50%;}#sk-container-id-1 div.sk-parallel-item:last-child::after {align-self: flex-start;width: 50%;}#sk-container-id-1 div.sk-parallel-item:only-child::after {width: 0;}#sk-container-id-1 div.sk-dashed-wrapped {border: 1px dashed gray;margin: 0 0.4em 0.5em 0.4em;box-sizing: border-box;padding-bottom: 0.4em;background-color: white;}#sk-container-id-1 div.sk-label label {font-family: monospace;font-weight: bold;display: inline-block;line-height: 1.2em;}#sk-container-id-1 div.sk-label-container {text-align: center;}#sk-container-id-1 div.sk-container {/* jupyter's `normalize.less` sets `[hidden] { display: none; }` but bootstrap.min.css set `[hidden] { display: none !important; }` so we also need the `!important` here to be able to override the default hidden behavior on the sphinx rendered scikit-learn.org. See: https://github.com/scikit-learn/scikit-learn/issues/21755 */display: inline-block !important;position: relative;}#sk-container-id-1 div.sk-text-repr-fallback {display: none;}</style><div id=\"sk-container-id-1\" class=\"sk-top-container\"><div class=\"sk-text-repr-fallback\"><pre>LogisticRegression(max_iter=1000)</pre><b>In a Jupyter environment, please rerun this cell to show the HTML representation or trust the notebook. <br />On GitHub, the HTML representation is unable to render, please try loading this page with nbviewer.org.</b></div><div class=\"sk-container\" hidden><div class=\"sk-item\"><div class=\"sk-estimator sk-toggleable\"><input class=\"sk-toggleable__control sk-hidden--visually\" id=\"sk-estimator-id-1\" type=\"checkbox\" checked><label for=\"sk-estimator-id-1\" class=\"sk-toggleable__label sk-toggleable__label-arrow\">LogisticRegression</label><div class=\"sk-toggleable__content\"><pre>LogisticRegression(max_iter=1000)</pre></div></div></div></div></div>"
            ]
          },
          "metadata": {},
          "execution_count": 11
        }
      ],
      "source": [
        "# Train a Logistic Regression model with hyperparameter tuning\n",
        "model_lr = LogisticRegression(max_iter=1000, C=1.0)  # You can experiment with different values of C\n",
        "model_lr.fit(X_train_tfidf, y_train_balanced)\n"
      ]
    },
    {
      "cell_type": "code",
      "execution_count": null,
      "id": "7a4a05c4",
      "metadata": {
        "id": "7a4a05c4"
      },
      "outputs": [],
      "source": [
        "# Predict sentiments on the test set\n",
        "y_pred_lr = model_lr.predict(X_test_tfidf)\n"
      ]
    },
    {
      "cell_type": "code",
      "execution_count": null,
      "id": "d703c4b2",
      "metadata": {
        "scrolled": true,
        "id": "d703c4b2",
        "outputId": "3638d1b7-fd00-44df-d602-3dad14103f6d",
        "colab": {
          "base_uri": "https://localhost:8080/"
        }
      },
      "outputs": [
        {
          "output_type": "stream",
          "name": "stdout",
          "text": [
            "Accuracy: 88.0 %\n",
            "              precision    recall  f1-score   support\n",
            "\n",
            "           0       0.90      0.87      0.88       104\n",
            "           1       0.86      0.90      0.88        96\n",
            "\n",
            "    accuracy                           0.88       200\n",
            "   macro avg       0.88      0.88      0.88       200\n",
            "weighted avg       0.88      0.88      0.88       200\n",
            "\n"
          ]
        }
      ],
      "source": [
        "# Evaluate the model\n",
        "print(\"Accuracy:\", accuracy_score(y_test_balanced, y_pred_lr) * 100 ,\"%\")\n",
        "print(classification_report(y_test_balanced, y_pred_lr))\n"
      ]
    },
    {
      "cell_type": "code",
      "execution_count": null,
      "id": "f2b18ade",
      "metadata": {
        "id": "f2b18ade"
      },
      "outputs": [],
      "source": []
    }
  ],
  "metadata": {
    "kernelspec": {
      "display_name": "Python 3 (ipykernel)",
      "language": "python",
      "name": "python3"
    },
    "language_info": {
      "codemirror_mode": {
        "name": "ipython",
        "version": 3
      },
      "file_extension": ".py",
      "mimetype": "text/x-python",
      "name": "python",
      "nbconvert_exporter": "python",
      "pygments_lexer": "ipython3",
      "version": "3.9.13"
    },
    "colab": {
      "provenance": []
    }
  },
  "nbformat": 4,
  "nbformat_minor": 5
}